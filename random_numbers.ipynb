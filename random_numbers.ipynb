{
 "cells": [
  {
   "cell_type": "code",
   "execution_count": 1,
   "id": "30f208d5",
   "metadata": {},
   "outputs": [],
   "source": [
    "# Import the random module.\n",
    "import random"
   ]
  },
  {
   "cell_type": "code",
   "execution_count": 3,
   "id": "6d1fc5ab",
   "metadata": {},
   "outputs": [
    {
     "data": {
      "text/plain": [
       "-44"
      ]
     },
     "execution_count": 3,
     "metadata": {},
     "output_type": "execute_result"
    }
   ],
   "source": [
    "random.randint(-90, 90)\n"
   ]
  },
  {
   "cell_type": "code",
   "execution_count": 4,
   "id": "87c0bb31",
   "metadata": {},
   "outputs": [
    {
     "data": {
      "text/plain": [
       "0.16759443266426022"
      ]
     },
     "execution_count": 4,
     "metadata": {},
     "output_type": "execute_result"
    }
   ],
   "source": [
    "random.random()"
   ]
  },
  {
   "cell_type": "code",
   "execution_count": 5,
   "id": "b247ed11",
   "metadata": {},
   "outputs": [
    {
     "data": {
      "text/plain": [
       "19.266617014262973"
      ]
     },
     "execution_count": 5,
     "metadata": {},
     "output_type": "execute_result"
    }
   ],
   "source": [
    "random_number = random.randint(-90, 89) + random.random()\n",
    "random_number"
   ]
  },
  {
   "cell_type": "code",
   "execution_count": 7,
   "id": "cb27fbe6",
   "metadata": {},
   "outputs": [
    {
     "data": {
      "text/plain": [
       "[-77.22872180860381,\n",
       " -69.35431021695906,\n",
       " -37.36647000749394,\n",
       " 2.7073857396030974,\n",
       " -55.30170750886045,\n",
       " -0.09037036318840097,\n",
       " 75.75157696070666,\n",
       " -13.519821190988,\n",
       " -83.32297641875604,\n",
       " 33.321387638974734]"
      ]
     },
     "execution_count": 7,
     "metadata": {},
     "output_type": "execute_result"
    }
   ],
   "source": [
    "x = 1\n",
    "latitudes = []\n",
    "while x < 11:\n",
    "    random_lat = random.randint(-90, 89) + random.random()\n",
    "    latitudes.append(random_lat)\n",
    "    x += 1\n",
    "\n",
    "latitudes"
   ]
  },
  {
   "cell_type": "code",
   "execution_count": 8,
   "id": "b41e0724",
   "metadata": {},
   "outputs": [
    {
     "data": {
      "text/plain": [
       "-63"
      ]
     },
     "execution_count": 8,
     "metadata": {},
     "output_type": "execute_result"
    }
   ],
   "source": [
    "random.randrange(-90, 90, step=3)"
   ]
  },
  {
   "cell_type": "code",
   "execution_count": 9,
   "id": "183e32a4",
   "metadata": {},
   "outputs": [
    {
     "data": {
      "text/plain": [
       "30.652988586795374"
      ]
     },
     "execution_count": 9,
     "metadata": {},
     "output_type": "execute_result"
    }
   ],
   "source": [
    "random.uniform(-90, 90)"
   ]
  },
  {
   "cell_type": "code",
   "execution_count": 10,
   "id": "a8e7fa68",
   "metadata": {},
   "outputs": [],
   "source": [
    "# Import the NumPy module.\n",
    "import numpy as np"
   ]
  },
  {
   "cell_type": "code",
   "execution_count": 11,
   "id": "a9d72896",
   "metadata": {},
   "outputs": [
    {
     "data": {
      "text/plain": [
       "11.845318065173359"
      ]
     },
     "execution_count": 11,
     "metadata": {},
     "output_type": "execute_result"
    }
   ],
   "source": [
    "np.random.uniform(-90.000, 90.000)"
   ]
  },
  {
   "cell_type": "code",
   "execution_count": 12,
   "id": "800491b8",
   "metadata": {},
   "outputs": [
    {
     "data": {
      "text/plain": [
       "array([-67.69273035, -84.74473785, -36.01259668, -32.5643269 ,\n",
       "        -5.56748091, -18.22407576,  41.81939003, -37.80719497,\n",
       "        85.49806404, -37.4198462 , -74.98352618,  30.2045153 ,\n",
       "        42.01068629, -19.54767089,  67.4682488 ,  55.88264019,\n",
       "        68.03516954,  15.65388027, -16.02279961,  12.89907324,\n",
       "        68.79791206,  24.84633845, -78.63871221, -48.54263758,\n",
       "        12.61425742,  12.91388529, -44.98372648,  42.33648052,\n",
       "        29.30727115,  11.90863366,  47.3503508 ,  60.29066033,\n",
       "       -39.57182189, -10.0482929 ,  41.58187615,   9.27065743,\n",
       "         1.54061096,  -5.89658115, -78.70317626, -68.98462087,\n",
       "       -55.65749399, -61.21004173,  55.98301211, -61.06009227,\n",
       "       -33.72006637, -37.15230724, -39.87718053, -30.85670725,\n",
       "        60.19152678,  75.9551588 ])"
      ]
     },
     "execution_count": 12,
     "metadata": {},
     "output_type": "execute_result"
    }
   ],
   "source": [
    "np.random.uniform(-90.000, 90.000, size=50)"
   ]
  },
  {
   "cell_type": "code",
   "execution_count": 13,
   "id": "f96d2708",
   "metadata": {},
   "outputs": [],
   "source": [
    "# Import timeit.\n",
    "import timeit"
   ]
  },
  {
   "cell_type": "code",
   "execution_count": 14,
   "id": "55fcc717",
   "metadata": {},
   "outputs": [
    {
     "name": "stdout",
     "output_type": "stream",
     "text": [
      "12.1 µs ± 36.2 ns per loop (mean ± std. dev. of 7 runs, 100000 loops each)\n"
     ]
    }
   ],
   "source": [
    "%timeit np.random.uniform(-90.000, 90.000, size=1500)\n"
   ]
  },
  {
   "cell_type": "code",
   "execution_count": 15,
   "id": "9703de3e",
   "metadata": {},
   "outputs": [
    {
     "name": "stdout",
     "output_type": "stream",
     "text": [
      "1.41 ms ± 5.75 µs per loop (mean ± std. dev. of 7 runs, 1000 loops each)\n"
     ]
    }
   ],
   "source": [
    "def latitudes(size):\n",
    "    latitudes = []\n",
    "    x = 0\n",
    "    while x < (size):\n",
    "        random_lat = random.randint(-90, 90) + random.random()\n",
    "        latitudes.append(random_lat)\n",
    "        x += 1\n",
    "    return latitudes\n",
    "# Call the function with 1500.\n",
    "%timeit latitudes(1500)"
   ]
  },
  {
   "cell_type": "code",
   "execution_count": null,
   "id": "2ccc7f5b",
   "metadata": {},
   "outputs": [],
   "source": []
  }
 ],
 "metadata": {
  "kernelspec": {
   "display_name": "PythonData",
   "language": "python",
   "name": "pythondata"
  },
  "language_info": {
   "codemirror_mode": {
    "name": "ipython",
    "version": 3
   },
   "file_extension": ".py",
   "mimetype": "text/x-python",
   "name": "python",
   "nbconvert_exporter": "python",
   "pygments_lexer": "ipython3",
   "version": "3.7.11"
  }
 },
 "nbformat": 4,
 "nbformat_minor": 5
}
